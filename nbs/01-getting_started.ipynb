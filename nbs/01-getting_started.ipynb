{
 "cells": [
  {
   "cell_type": "markdown",
   "metadata": {},
   "source": [
    "## Imports"
   ]
  },
  {
   "cell_type": "code",
   "execution_count": 1,
   "metadata": {},
   "outputs": [],
   "source": [
    "import torch\n",
    "import torchvision.transforms as transforms\n",
    "from torch.utils.data import DataLoader\n",
    "from dataset import LEVIRCDDataset\n",
    "from utils import *\n",
    "from model import *\n",
    "from train import *\n",
    "# import wandb\n",
    "# import random\n",
    "\n",
    "# wandb.init(project=\"levircd_getting_started\")"
   ]
  },
  {
   "cell_type": "markdown",
   "metadata": {},
   "source": [
    "## Data Path"
   ]
  },
  {
   "cell_type": "code",
   "execution_count": 18,
   "metadata": {},
   "outputs": [],
   "source": [
    "#train data\n",
    "image_dir_A_train = '../data/lesson_1/train/A/'\n",
    "image_dir_B_train = '../data/lesson_1/train/B/'\n",
    "label_dir_train = '../data/lesson_1/train/label/'\n",
    "\n",
    "#validation data\n",
    "image_dir_A_val = '../data/lesson_1/val/A/'\n",
    "image_dir_B_val = '../data/lesson_1/val/B/'\n",
    "label_dir_val = '../data/lesson_1/val/label/'\n",
    "\n",
    "#test data\n",
    "image_dir_A_test = '../data/lesson_1/test/A/'\n",
    "image_dir_B_test = '../data/lesson_1/test/B/'\n",
    "label_dir_test = '../data/lesson_1/test/label/'\n"
   ]
  },
  {
   "cell_type": "markdown",
   "metadata": {},
   "source": [
    "## Augmentation"
   ]
  },
  {
   "cell_type": "code",
   "execution_count": 19,
   "metadata": {},
   "outputs": [],
   "source": [
    "transform = transforms.Compose([\n",
    "    transforms.Resize((224, 224)),\n",
    "    transforms.ToTensor()\n",
    "])"
   ]
  },
  {
   "cell_type": "code",
   "execution_count": null,
   "metadata": {},
   "outputs": [],
   "source": [
    "levir_cd_dataset_train = LEVIRCDDataset(image_dir_A_train, image_dir_B_train, label_dir_train, transform=transform)\n",
    "traindataloader = DataLoader(levir_cd_dataset_train, batch_size=8, shuffle=True)\n",
    "(image_A, image_B), label = next(iter(traindataloader))\n",
    "show_images(image_A[0], image_B[0], label[0])\n",
    "show_images(image_A[1], image_B[1], label[1])"
   ]
  },
  {
   "cell_type": "markdown",
   "metadata": {},
   "source": [
    "## Model"
   ]
  },
  {
   "cell_type": "code",
   "execution_count": 21,
   "metadata": {},
   "outputs": [],
   "source": [
    "model = UNet(in_channels=6, out_channels=1)\n",
    "model.to(device); "
   ]
  },
  {
   "cell_type": "markdown",
   "metadata": {},
   "source": [
    "## Loss function and Optimizer"
   ]
  },
  {
   "cell_type": "code",
   "execution_count": 22,
   "metadata": {},
   "outputs": [],
   "source": [
    "criterion = nn.BCELoss()\n",
    "optimizer = torch.optim.Adam(model.parameters(), lr=0.001)\n",
    "scheduler = torch.optim.lr_scheduler.StepLR(optimizer, step_size=50, gamma=0.1)"
   ]
  },
  {
   "cell_type": "markdown",
   "metadata": {},
   "source": [
    "## Training"
   ]
  },
  {
   "cell_type": "code",
   "execution_count": 23,
   "metadata": {},
   "outputs": [],
   "source": [
    "levir_cd_dataset_train = LEVIRCDDataset(image_dir_A_train, image_dir_B_train, label_dir_train, transform=transform)\n",
    "levir_cd_dataset_val = LEVIRCDDataset(image_dir_A_val, image_dir_B_val, label_dir_val, transform=transform)\n",
    "levir_cd_dataset_test = LEVIRCDDataset(image_dir_A_test, image_dir_B_test, label_dir_test, transform=transform)\n",
    "\n",
    "# DataLoader\n",
    "train_loader = DataLoader(levir_cd_dataset_train, batch_size=32, shuffle=True, num_workers=4, persistent_workers=True)\n",
    "validate_loader = DataLoader(levir_cd_dataset_val, batch_size=32, shuffle=False, num_workers=4, persistent_workers=True)\n",
    "test_loader = DataLoader(levir_cd_dataset_test, batch_size=32, shuffle=False, num_workers=4, persistent_workers=True)\n"
   ]
  },
  {
   "cell_type": "code",
   "execution_count": null,
   "metadata": {},
   "outputs": [],
   "source": [
    "train_losses, train_ious, train_dices, val_losses, val_ious, val_dices = train_model(model, criterion, optimizer,scheduler,train_loader, \n",
    "                                                                                     validate_loader, num_epochs=100, save_name='unet_levir_cd_baseline')"
   ]
  },
  {
   "cell_type": "markdown",
   "metadata": {},
   "source": [
    "## Training and Validation set Performance"
   ]
  },
  {
   "cell_type": "code",
   "execution_count": 9,
   "metadata": {},
   "outputs": [],
   "source": [
    "#put it in utils\n",
    "def remove_outliers(data, m=2):\n",
    "    return np.array(data)[abs(data - np.mean(data)) < m * np.std(data)]"
   ]
  },
  {
   "cell_type": "code",
   "execution_count": 10,
   "metadata": {},
   "outputs": [],
   "source": [
    "metrics = torch.load(\"../model_weights/1726353735/unet_levir_cd_baseline_1726353735_metrics.pth\")"
   ]
  },
  {
   "cell_type": "code",
   "execution_count": 11,
   "metadata": {},
   "outputs": [],
   "source": [
    "train_losses = remove_outliers(metrics['train_losses'])\n",
    "train_ious = remove_outliers(metrics['train_ious'])\n",
    "train_dices = remove_outliers(metrics['train_dices'])\n",
    "val_losses = remove_outliers(metrics['val_losses'])\n",
    "val_ious = remove_outliers(metrics['val_ious'])\n",
    "val_dices = remove_outliers(metrics['val_dices'])\n"
   ]
  },
  {
   "cell_type": "code",
   "execution_count": null,
   "metadata": {},
   "outputs": [],
   "source": [
    "# Plot the training and validation losses\n",
    "plt.figure(figsize=(10, 5))\n",
    "plt.plot(train_losses, label='train loss')\n",
    "plt.plot(val_losses, label='validation loss')\n",
    "plt.xlabel('Epoch')\n",
    "plt.ylabel('Loss')\n",
    "plt.legend()\n",
    "plt.show()"
   ]
  },
  {
   "cell_type": "code",
   "execution_count": null,
   "metadata": {},
   "outputs": [],
   "source": [
    "plt.figure(figsize=(10, 5))\n",
    "plt.plot(remove_outliers(train_ious), label='train iou')\n",
    "plt.plot(remove_outliers(val_ious), label='validation iou')\n",
    "plt.plot(remove_outliers(train_dices), label='train dice', linestyle='dashed')\n",
    "plt.plot(remove_outliers(val_dices), label='validation dice', linestyle='dashed')\n",
    "plt.xlabel('Epoch')\n",
    "plt.ylabel('IoU/Dice')\n",
    "plt.legend()"
   ]
  },
  {
   "cell_type": "markdown",
   "metadata": {},
   "source": [
    "## Performance on test data"
   ]
  },
  {
   "cell_type": "code",
   "execution_count": null,
   "metadata": {},
   "outputs": [],
   "source": [
    "del model  \n",
    "del optimizer  \n",
    "del criterion  \n",
    "\n",
    "# Clear the cache\n",
    "torch.cuda.empty_cache()"
   ]
  },
  {
   "cell_type": "code",
   "execution_count": null,
   "metadata": {},
   "outputs": [],
   "source": [
    "model = UNet(in_channels=6, out_channels=1).to(device)\n",
    "test_loader = DataLoader(levir_cd_dataset_test, batch_size=1, shuffle=False, num_workers=4, persistent_workers=True)\n",
    "model.load_state_dict(torch.load('../model_weights/1726353735/unet_levir_cd_baseline_1726353735_best.pth'))\n",
    "criterion = nn.BCELoss()\n",
    "epoch_loss, mean_iou, mean_dice = validate_model(model, test_loader, criterion)\n",
    "print(f'Loss: {epoch_loss:.4f}, IoU: {mean_iou:.4f}, DICE: {mean_dice:.4f}')"
   ]
  },
  {
   "cell_type": "markdown",
   "metadata": {},
   "source": [
    "## Visualization"
   ]
  },
  {
   "cell_type": "code",
   "execution_count": null,
   "metadata": {},
   "outputs": [],
   "source": [
    "visualize_test_results(model, test_loader, num_examples=2)"
   ]
  },
  {
   "cell_type": "code",
   "execution_count": null,
   "metadata": {},
   "outputs": [],
   "source": [
    "## selcting the best 5 images and ploting\n",
    "dice_scores = []\n",
    "iou_scores = []\n",
    "test_loader = DataLoader(levir_cd_dataset_test, batch_size=1, shuffle=False, num_workers=4, persistent_workers=True)\n",
    "\n",
    "for i, ((image_A, image_B), labels) in enumerate(test_loader):\n",
    "    model.eval()\n",
    "    with torch.no_grad(): \n",
    "        image_A, image_B, labels = image_A.to(device), image_B.to(device), labels.to(device)\n",
    "        inputs = torch.cat([image_A, image_B], dim=1)\n",
    "        outputs = model(inputs)\n",
    "        outputs = (outputs > 0.5).float()\n",
    "        dice_score = compute_dice(outputs, labels).item()\n",
    "        iou_score = compute_iou(outputs, labels).item()\n",
    "        dice_scores.append(dice_score)\n",
    "        iou_scores.append(iou_score)\n",
    "        # plot the images with the highest dice score\n",
    "        if dice_score > 0.85:\n",
    "            show_images(image_A[0].cpu(), image_B[0].cpu(), labels[0].cpu(), outputs[0].cpu())"
   ]
  },
  {
   "cell_type": "code",
   "execution_count": null,
   "metadata": {},
   "outputs": [],
   "source": [
    "## selcting the best 5 images and ploting\n",
    "dice_scores = []\n",
    "iou_scores = []\n",
    "test_loader = DataLoader(levir_cd_dataset_test, batch_size=1, shuffle=False, num_workers=4, persistent_workers=True)\n",
    "\n",
    "for i, ((image_A, image_B), labels) in enumerate(test_loader):\n",
    "    model.eval()\n",
    "    with torch.no_grad(): \n",
    "        image_A, image_B, labels = image_A.to(device), image_B.to(device), labels.to(device)\n",
    "        inputs = torch.cat([image_A, image_B], dim=1)\n",
    "        outputs = model(inputs)\n",
    "        outputs = (outputs > 0.5).float()\n",
    "        dice_score = compute_dice(outputs, labels).item()\n",
    "        iou_score = compute_iou(outputs, labels).item()\n",
    "        dice_scores.append(dice_score)\n",
    "        iou_scores.append(iou_score)\n",
    "        # plot the images with the highest dice score\n",
    "        if dice_score < 0.2:\n",
    "            show_images(image_A[0].cpu(), image_B[0].cpu(), labels[0].cpu(), None)"
   ]
  },
  {
   "cell_type": "code",
   "execution_count": null,
   "metadata": {},
   "outputs": [],
   "source": [
    "show_images(image_A[0].cpu(), image_B[0].cpu(), labels[0].cpu(), None)"
   ]
  },
  {
   "cell_type": "code",
   "execution_count": null,
   "metadata": {},
   "outputs": [],
   "source": []
  }
 ],
 "metadata": {
  "kernelspec": {
   "display_name": "base",
   "language": "python",
   "name": "python3"
  },
  "language_info": {
   "codemirror_mode": {
    "name": "ipython",
    "version": 3
   },
   "file_extension": ".py",
   "mimetype": "text/x-python",
   "name": "python",
   "nbconvert_exporter": "python",
   "pygments_lexer": "ipython3",
   "version": "3.11.9"
  }
 },
 "nbformat": 4,
 "nbformat_minor": 2
}
